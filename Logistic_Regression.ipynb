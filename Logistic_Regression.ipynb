{
 "cells": [
  {
   "cell_type": "markdown",
   "metadata": {},
   "source": [
    "[![Open In Colab](https://colab.research.google.com/assets/colab-badge.svg)](https://colab.research.google.com/github/Chuvard/Logistic_Regression/blob/main/Logistic_Regression.ipynb)"
   ]
  },
  {
   "attachments": {},
   "cell_type": "markdown",
   "metadata": {},
   "source": [
    "## Outline\n",
    "\n",
    "1. Importing modules\n",
    "2. Logistic Regression\n",
    "    * 2.1. Problem Statement\n",
    "    * 2.2. Loading and visualizing the data\n",
    "    * 2.3. Sigmoid function\n",
    "    * 2.4. Cost function for logistic regression\n",
    "    * 2.5. Gradient for logistic regression\n",
    "    * 2.6. Learning parameters using gradient descent\n",
    "    * 2.7. Plotting the decision boundary\n",
    "    * 2.8. Evaluating logistic regression\n",
    "3. Regularized Logistic Regression\n",
    "    * 3.1. Problem Statement\n",
    "    * 3.2. Loading and visualizing the data\n",
    "    * 3.3. Feature mapping\n",
    "    * 3.4. Cost function for regularized logistic regression\n",
    "    * 3.5. Gradient for regularized logistic regression\n",
    "    * 3.6. Learning parameters using gradient descent\n",
    "    * 3.7. Plotting the decision boundary\n",
    "    * 3.8. Evaluating regularized logistic regression model"
   ]
  },
  {
   "attachments": {},
   "cell_type": "markdown",
   "metadata": {},
   "source": [
    "## 1. Importing modules"
   ]
  },
  {
   "cell_type": "code",
   "execution_count": 1,
   "metadata": {},
   "outputs": [],
   "source": [
    "# Importing modules\n",
    "import numpy as np\n",
    "import matplotlib.pyplot as plt\n",
    "import copy\n",
    "import math"
   ]
  },
  {
   "attachments": {},
   "cell_type": "markdown",
   "metadata": {},
   "source": [
    "## 2 - Logistic Regression\n",
    "\n",
    "***\n",
    "\n",
    "In this part of the exercise, we will build a logistic regression model to predict whether a student gets admitted into a university."
   ]
  },
  {
   "attachments": {},
   "cell_type": "markdown",
   "metadata": {},
   "source": [
    "### 2.1 Problem Statement\n",
    "\n",
    "Suppose that we are the administration office of a university department and we want to determine each applicant’s chance of admission based on their results on two exams.\n",
    "\n",
    "* We have historical data from previous applicants that you can use as a training set for logistic regression.\n",
    "* For each training example, we have the applicant’s scores on two exams and the admissions decision.\n",
    "* Our task is to build a classification model that estimates an applicant’s probability of admission based on the scores from those two exams."
   ]
  },
  {
   "attachments": {},
   "cell_type": "markdown",
   "metadata": {},
   "source": [
    "### 2.2 Loading and visualizing the data\n",
    "\n",
    "We will start by loading the dataset for this task.\n",
    "\n",
    "The load_dataset() function shown below loads the data into variables X_train and y_train\n",
    "\n",
    "* X_train contains exam scores on two exams for a student\n",
    "* y_train is the admission decision\n",
    "    * y_train = 1 if the student was admitted\n",
    "    * y_train = 0 if the student was not admitted\n",
    "* Both X_train and y_train are numpy arrays."
   ]
  },
  {
   "cell_type": "code",
   "execution_count": 2,
   "metadata": {},
   "outputs": [],
   "source": [
    "## load dataset\n",
    "# Define a function \"load_data\" to load data from file\n",
    "def load_data(filename):\n",
    "    data = np.loadtxt(filename, delimiter=',')\n",
    "    X = data[:,:2]\n",
    "    y = data[:,2]\n",
    "    return X, y"
   ]
  },
  {
   "cell_type": "code",
   "execution_count": 3,
   "metadata": {},
   "outputs": [],
   "source": [
    "# test the function to import data from a file\n",
    "X_train, y_train = load_data('https://raw.githubusercontent.com/Chuvard/Logistic_Regression/main/ex2data1.txt')"
   ]
  },
  {
   "attachments": {},
   "cell_type": "markdown",
   "metadata": {},
   "source": [
    "**View the variables** \n",
    "\n",
    "\n",
    "Let's get more familiar with a dataset.\n",
    "* A good place to start is to just print out each variable and see what it contains."
   ]
  },
  {
   "cell_type": "code",
   "execution_count": 4,
   "metadata": {},
   "outputs": [
    {
     "name": "stdout",
     "output_type": "stream",
     "text": [
      "First five elements in X_train are:\n",
      " [[34.62365962 78.02469282]\n",
      " [30.28671077 43.89499752]\n",
      " [35.84740877 72.90219803]\n",
      " [60.18259939 86.3085521 ]\n",
      " [79.03273605 75.34437644]]\n",
      "Type of X_train: <class 'numpy.ndarray'>\n"
     ]
    }
   ],
   "source": [
    "# The code below prints the first five values of **X_train** and the type of the variable.\n",
    "print(\"First five elements in X_train are:\\n\", X_train[:5])\n",
    "print(\"Type of X_train:\",type(X_train))"
   ]
  },
  {
   "cell_type": "code",
   "execution_count": 5,
   "metadata": {},
   "outputs": [
    {
     "name": "stdout",
     "output_type": "stream",
     "text": [
      "First five elements in y_train are:\n",
      " [0. 0. 0. 1. 1.]\n",
      "Type of y_train: <class 'numpy.ndarray'>\n"
     ]
    }
   ],
   "source": [
    "# Now print the first five values of y_train\n",
    "print(\"First five elements in y_train are:\\n\", y_train[:5])\n",
    "print(\"Type of y_train:\",type(y_train))"
   ]
  },
  {
   "attachments": {},
   "cell_type": "markdown",
   "metadata": {},
   "source": [
    "**Check the dimensions of our variables**\n",
    "\n",
    "Another useful way to get familiar with a data is to view its dimensions."
   ]
  },
  {
   "cell_type": "code",
   "execution_count": 6,
   "metadata": {},
   "outputs": [
    {
     "name": "stdout",
     "output_type": "stream",
     "text": [
      "The shape of X_train is: (100, 2)\n",
      "The shape of y_train is: (100,)\n",
      "We have m = 100 training examples\n"
     ]
    }
   ],
   "source": [
    "# Let's print the shape of X_train and y_train and see how many training examples we have in our dataset\n",
    "print ('The shape of X_train is: ' + str(X_train.shape))\n",
    "print ('The shape of y_train is: ' + str(y_train.shape))\n",
    "print ('We have m = %d training examples' % (len(y_train)))"
   ]
  },
  {
   "attachments": {},
   "cell_type": "markdown",
   "metadata": {},
   "source": [
    "**Visualize our data**\n",
    "\n",
    "Before starting to implement any learning algorithm, it is always good to visualize the data if possible.\n",
    "\n",
    "* The code below displays the data on a 2D plot, where the axes are the two exam scores, and the positive and negative examples are shown with different markers."
   ]
  },
  {
   "cell_type": "code",
   "execution_count": 7,
   "metadata": {},
   "outputs": [
    {
     "data": {
      "image/png": "[encoded data removed]",
      "text/plain": [
       "<Figure size 640x480 with 1 Axes>"
      ]
     },
     "metadata": {},
     "output_type": "display_data"
    }
   ],
   "source": [
    "## Visualize the data\n",
    "\n",
    "# Define a function \"plot_data()\" to plot a data\n",
    "def plot_data(X, y, pos_label=\"y=1\", neg_label=\"y=0\"):\n",
    "    positive = y == 1\n",
    "    negative = y == 0\n",
    "    \n",
    "    # Plot examples\n",
    "    plt.plot(X[positive, 0], X[positive, 1], 'k+', label=pos_label)\n",
    "    plt.plot(X[negative, 0], X[negative, 1], 'yo', label=neg_label)\n",
    "\n",
    "# test the function to plot our examples\n",
    "plot_data(X_train, y_train[:], pos_label=\"Admitted\", neg_label=\"Not admitted\")\n",
    "\n",
    "# Set the y-axis label\n",
    "plt.ylabel('Exam 2 score') \n",
    "# Set the x-axis label\n",
    "plt.xlabel('Exam 1 score') \n",
    "plt.legend(loc=\"upper right\")\n",
    "plt.show()"
   ]
  },
  {
   "attachments": {},
   "cell_type": "markdown",
   "metadata": {},
   "source": [
    "Our goal is to build a logistic regression model to fit this data.\n",
    "* With this model, we can then predict if a new student will be admitted based on their scores on the two exams"
   ]
  },
  {
   "attachments": {},
   "cell_type": "markdown",
   "metadata": {},
   "source": [
    "### 2.3. Sigmoid function\n",
    "\n",
    "***\n",
    "\n",
    "Recall that for logistic regression, the model is represented as\n",
    "$$ f_w,_b(x) = g(w * x + b) $$\n",
    "\n",
    "where function **𝑔** is the sigmoid function. The sigmoid function is defined as:\n",
    "$$ g(z) = \\frac{1}{1 + e^{-z}} $$\n",
    "\n",
    "Let's implement the sigmoid function first, so it can be used by the rest of this assignment.\n",
    "\n"
   ]
  },
  {
   "attachments": {},
   "cell_type": "markdown",
   "metadata": {},
   "source": [
    "### Exercise 1 \n",
    "\n",
    "Calculate the \"sigmoid\" function with the following formula:\n",
    "$$ g(z) = \\frac{1}{1 + e^{-z}} $$\n",
    "\n",
    "Note that\n",
    "* z is not always a single number, but can also be an array of numbers.\n",
    "* If the input is an array of numbers, we'd like to apply the sigmoid function to each value in the input array.\n",
    "\n",
    "\n"
   ]
  },
  {
   "cell_type": "code",
   "execution_count": 8,
   "metadata": {},
   "outputs": [],
   "source": [
    "# Define a function \"sigmoid()\" to calculate\n",
    "def sigmoid(z):\n",
    "    #  \"\"\"\n",
    "    # Compute the sigmoid of z\n",
    "\n",
    "    # Args:\n",
    "    #     z (ndarray): A scalar, numpy array of any size.\n",
    "\n",
    "    # Returns:\n",
    "    #     g (ndarray): sigmoid(z), with the same shape as z\n",
    "         \n",
    "    # \"\"\"\n",
    "    g = 1/(1 + np.exp(-z))\n",
    "\n",
    "    return g"
   ]
  },
  {
   "attachments": {},
   "cell_type": "markdown",
   "metadata": {},
   "source": [
    "When we are finished, try testing a few values by calling sigmoid(x) in the cell below.\n",
    "\n",
    "* For large positive values of x, the sigmoid should be close to 1, while for large negative values, the sigmoid should be close to 0.\n",
    "* Evaluating sigmoid(0) should give you exactly 0.5.\n",
    "\n",
    "Note: We can update this value any time"
   ]
  },
  {
   "cell_type": "code",
   "execution_count": 9,
   "metadata": {},
   "outputs": [
    {
     "name": "stdout",
     "output_type": "stream",
     "text": [
      "sigmoid(0) = 0.5\n"
     ]
    }
   ],
   "source": [
    "# test the sigmoid function with simple number that was previous defined \n",
    "value = 0\n",
    "print (f\"sigmoid({value}) = {sigmoid(value)}\")"
   ]
  },
  {
   "attachments": {},
   "cell_type": "markdown",
   "metadata": {},
   "source": [
    "Note: As was mentioned before, our code should also work with vectors and matrices. For a matrix, our function should perform the sigmoid function on every element."
   ]
  },
  {
   "cell_type": "code",
   "execution_count": 10,
   "metadata": {},
   "outputs": [
    {
     "name": "stdout",
     "output_type": "stream",
     "text": [
      "sigmoid([ -1, 0, 1, 2]) = [0.26894142 0.5        0.73105858 0.88079708]\n"
     ]
    }
   ],
   "source": [
    "# test the sigmoid function with more relevant numbers \n",
    "print (\"sigmoid([ -1, 0, 1, 2]) = \" + str(sigmoid(np.array([-1, 0, 1, 2]))))"
   ]
  },
  {
   "attachments": {},
   "cell_type": "markdown",
   "metadata": {},
   "source": [
    "### 2.4 Cost function for logistic regression\n",
    "\n",
    "***\n",
    "\n",
    "In this section, we will implement the cost function for logistic regression."
   ]
  },
  {
   "attachments": {},
   "cell_type": "markdown",
   "metadata": {},
   "source": [
    "### Exercise 2 \n",
    "\n",
    "Calculate the \"sigmoid\" function with the following formula:\n",
    "$$ g(z) = \\frac{1}{1 + e^{-z}} $$\n",
    "\n",
    "Let's complete the \"compute_cost\" function using the equations below.\n",
    "Recall that for logistic regression, the cost function is of the form\n",
    "$$ J(w, b) = \\frac{1}{m} * \\sum_{i=0}^{m-1} [loss(f_w,_b(x^i,y^i))] $$\n",
    "(1)\n",
    "\n",
    "where\n",
    "* m is the number of training examples in the dataset\n",
    "$$ loss(f_w,_b(x^i,y^i)) $$ \n",
    "is the cost for a single data point, which is - \n",
    "\n",
    "$$ loss(f_w,_b(x^i,y^i)) = (-y^i*log(f_w,_b(x^i)) - (1-y^i)*log(f_w,_b(x^i)) $$\n",
    "(2)\n",
    "\n",
    "$$ f_w,_b(x^i) $$\n",
    "is the model's prediction, while 𝑦(𝑖), which is the actual label\n",
    "$$ f_w,_b(x^i) = g(w * x^i + b) $$\n",
    "where function 𝑔 is the sigmoid function.\n",
    "\n",
    "* It might be helpful to first calculate an intermediate variable\n",
    "$$ z_w,_b(x^i) = w * x^i + b = w_0 * x_0^i + ... + w_{n-1} * x_{n-1^i} + b $$\n",
    "where **n** is the number of features, before calculating\n",
    "$$ f_w,_b(x^i) = g(z_w,_b(x^i)) $$\n",
    "\n",
    "Note:\n",
    "\n",
    "* As we are doing this, remember that the variables **X_train** and **y_train** are not scalar values but matrices of shape (𝑚,𝑛) and (𝑚,1) respectively, where **𝑛** is the number of features and **𝑚** is the number of training examples.\n",
    "* We can use the sigmoid function that you implemented above for this part."
   ]
  },
  {
   "cell_type": "code",
   "execution_count": 11,
   "metadata": {},
   "outputs": [],
   "source": [
    "## Define a cost fiction \"compute_cost\" to calculate costs for our logistic function\n",
    "def compute_cost(X, y, w, b, lambda_= 1):\n",
    "    \"\"\"\n",
    "    Computes the cost over all examples\n",
    "    Args:\n",
    "      X : (ndarray Shape (m,n)) data, m examples by n features\n",
    "      y : (array_like Shape (m,)) target value \n",
    "      w : (array_like Shape (n,)) Values of parameters of the model      \n",
    "      b : scalar Values of bias parameter of the model\n",
    "      lambda_: unused placeholder\n",
    "    Returns:\n",
    "      total_cost: (scalar)         cost \n",
    "    \"\"\"\n",
    "\n",
    "    m, n = X.shape\n",
    "    \n",
    "    loss_sum = 0\n",
    "    \n",
    "    # Loop over each training example\n",
    "    for i in range(m):\n",
    "        \n",
    "        # First calculate z_wb = w[0]*X[i][0]+...+w[n-1]*X[i][n-1]+b\n",
    "        z_wb = 0\n",
    "    \n",
    "        # Loop over each feature\n",
    "        for j in range(n):\n",
    "           \n",
    "        # Add the corresponding term to z_wb\n",
    "            z_wb_ij = w[j] * X[i][j] # code to calculate w[j] * X[i][j]\n",
    "            z_wb += z_wb_ij # equivalent to z_wb = z_wb + z_wb_ij\n",
    "        \n",
    "        # Add the bias term to z_wb\n",
    "        z_wb += b\n",
    "        \n",
    "        # calculate prediction f_wb for a training example\n",
    "        f_wb = sigmoid(z_wb)\n",
    "        \n",
    "        loss =  -y[i] * np.log(f_wb) - (1 - y[i]) * np.log(1 - f_wb) # code here to calculate loss for a training example\n",
    "        \n",
    "        \n",
    "        loss_sum += loss # equivalent to loss_sum = loss_sum + loss\n",
    "        \n",
    "        \n",
    "    total_cost = (1 / m) * loss_sum\n",
    "  \n",
    "    \n",
    "    return total_cost "
   ]
  },
  {
   "cell_type": "code",
   "execution_count": 12,
   "metadata": {},
   "outputs": [
    {
     "name": "stdout",
     "output_type": "stream",
     "text": [
      "Cost at initial w (zeros): 0.693\n"
     ]
    }
   ],
   "source": [
    "# Run the cells below to check our implementation of the \"compute_cost\" function with two different initializations of the parameters 𝑤\n",
    "m, n = X_train.shape\n",
    "\n",
    "# Compute and display cost with w initialized to zeroes\n",
    "initial_w = np.zeros(n)\n",
    "initial_b = 0.\n",
    "cost = compute_cost(X_train, y_train, initial_w, initial_b)\n",
    "print('Cost at initial w (zeros): {:.3f}'.format(cost))"
   ]
  },
  {
   "cell_type": "code",
   "execution_count": 13,
   "metadata": {},
   "outputs": [
    {
     "name": "stdout",
     "output_type": "stream",
     "text": [
      "Cost at test w,b: 0.218\n"
     ]
    }
   ],
   "source": [
    "# Compute and display cost with non-zero w\n",
    "test_w = np.array([0.2, 0.2])\n",
    "test_b = -24.\n",
    "cost = compute_cost(X_train, y_train, test_w, test_b)\n",
    "print('Cost at test w,b: {:.3f}'.format(cost))"
   ]
  },
  {
   "attachments": {},
   "cell_type": "markdown",
   "metadata": {},
   "source": [
    "### 2.5 Gradient for logistic regression\n",
    "\n",
    "***\n",
    "\n",
    "In this section, we will implement the gradient for logistic regression.\n",
    "\n",
    "Recall that the gradient descent algorithm is:\n",
    "\n",
    "repeat until convergence: {\n",
    "$$ b:= b - \\alpha * \\frac{\\delta(J(w,b))}{\\delta(b)} $$\n",
    "\n",
    "$$ w_j:= w_j - \\alpha * \\frac{\\delta(J(w,b))}{\\delta(w_j)} $$\n",
    "(1)\n",
    "\n",
    "}\n",
    "\n",
    "where, parameters **b, w[j]** are all updated simultaneously"
   ]
  },
  {
   "attachments": {},
   "cell_type": "markdown",
   "metadata": {},
   "source": [
    "### Exercise 3\n",
    "\n",
    "Construct the \"compute_gradient\" function to compute from equations (2) and (3) below:\n",
    "\n",
    "$$ \\frac{\\delta(J(w,b))}{\\delta(b)} = \\frac{1}{m} * \\sum_{i=0}^{m-1} * (f_w,_b(x^i)-y^i) $$\n",
    "\n",
    "$$ \\frac{\\delta(J(w,b))}{\\delta(w_j)} = \\frac{1}{m} * \\sum_{i=0}^{m-1} * (f_w,_b(x^i)-y^i) * x_j^i $$\n",
    "\n",
    "\n",
    "\n",
    "* **m** is the number of training examples in the dataset\n",
    "\n",
    "* f_w,b(x^(i)) is the model's prediction, while y^(i)\n",
    "\n",
    "* Note: While this gradient looks identical to the linear regression gradient, the formula is actually different because linear and logistic regression have different definitions of f_w,_b(x)\n"
   ]
  },
  {
   "cell_type": "code",
   "execution_count": 14,
   "metadata": {},
   "outputs": [],
   "source": [
    "# As before, we can use the sigmoid function that we implemented above.\n",
    "def compute_gradient(X, y, w, b, lambda_=None):\n",
    "    \"\"\"\n",
    "    Computes the gradient for logistic regression \n",
    " \n",
    "    Args:\n",
    "      X : (ndarray Shape (m,n)) variable such as house size \n",
    "      y : (array_like Shape (m,1)) actual value \n",
    "      w : (array_like Shape (n,1)) values of parameters of the model      \n",
    "      b : (scalar)                 value of parameter of the model \n",
    "      lambda_: unused placeholder.\n",
    "    Returns\n",
    "      dj_dw: (array_like Shape (n,1)) The gradient of the cost w.r.t. the parameters w. \n",
    "      dj_db: (scalar)                The gradient of the cost w.r.t. the parameter b. \n",
    "    \"\"\"\n",
    "    m, n = X.shape\n",
    "    dj_dw = np.zeros(w.shape)\n",
    "    dj_db = 0.\n",
    "\n",
    "    for i in range(m):\n",
    "        z_wb = 0\n",
    "        for j in range(n): \n",
    "            z_wb_ij = w[j] * X[i, j]\n",
    "            z_wb += z_wb_ij\n",
    "            \n",
    "        z_wb += b\n",
    "        f_wb = sigmoid(z_wb)\n",
    "        \n",
    "        dj_db_i = (f_wb - y[i])\n",
    "        dj_db += dj_db_i\n",
    "        \n",
    "        for j in range(n):\n",
    "            dj_dw_ij = (f_wb - y[i]) * X[i, j]\n",
    "            dj_dw[j] += dj_dw_ij\n",
    "\n",
    "    dj_dw = dj_dw / m\n",
    "    dj_db = dj_db / m\n",
    "\n",
    "    return dj_db, dj_dw"
   ]
  },
  {
   "cell_type": "code",
   "execution_count": 15,
   "metadata": {},
   "outputs": [
    {
     "name": "stdout",
     "output_type": "stream",
     "text": [
      "dj_db at initial w (zeros):-0.1\n",
      "dj_dw at initial w (zeros):[-12.00921658929115, -11.262842205513591]\n"
     ]
    }
   ],
   "source": [
    "# Run the cells below to check our implementation of the \"compute_gradient\" function with two different initializations of the parameters **𝑤**\n",
    "# Compute and display gradient with w initialized to zeroes\n",
    "initial_w = np.zeros(n)\n",
    "initial_b = 0.\n",
    "dj_db, dj_dw = compute_gradient(X_train, y_train, initial_w, initial_b)\n",
    "\n",
    "print(f'dj_db at initial w (zeros):{dj_db}' )\n",
    "print(f'dj_dw at initial w (zeros):{dj_dw.tolist()}' )"
   ]
  },
  {
   "cell_type": "code",
   "execution_count": 16,
   "metadata": {},
   "outputs": [
    {
     "name": "stdout",
     "output_type": "stream",
     "text": [
      "dj_db at test_w: -0.5999999999991071\n",
      "dj_dw at test_w: [-44.831353617873795, -44.37384124953978]\n"
     ]
    }
   ],
   "source": [
    "# Compute and display cost and gradient with non-zero w\n",
    "test_w = np.array([ 0.2, -0.5])\n",
    "test_b = -24\n",
    "dj_db, dj_dw  = compute_gradient(X_train, y_train, test_w, test_b)\n",
    "\n",
    "print('dj_db at test_w:', dj_db)\n",
    "print('dj_dw at test_w:', dj_dw.tolist())"
   ]
  },
  {
   "attachments": {},
   "cell_type": "markdown",
   "metadata": {},
   "source": [
    "### 2.6 Learning parameters using gradient descent\n",
    "\n",
    "***\n",
    "\n",
    "Similar to the previous assignment, we will now find the optimal parameters of a logistic regression model by using gradient descent.\n",
    "\n",
    "* We don't need to implement anything for this part. Simply run the cells below.\n",
    "* A good way to verify that gradient descent is working correctly is to look at the value of 𝐽(𝐰,𝑏) and check that it is decreasing with each step.\n",
    "* Assuming we have implemented the gradient and computed the cost correctly, our value of 𝐽(𝐰,𝑏) should never increase, and should converge to a steady value by the end of the algorithm.\n"
   ]
  },
  {
   "cell_type": "code",
   "execution_count": 17,
   "metadata": {},
   "outputs": [],
   "source": [
    "def gradient_descent(X, y, w_in, b_in, cost_function, gradient_function, alpha, num_iters, lambda_):\n",
    "    \"\"\"\n",
    "    Performs batch gradient descent to learn theta. Updates theta by taking \n",
    "    num_iters gradient steps with learning rate alpha\n",
    "    \n",
    "    Args:\n",
    "      X :    (array_like Shape (m, n)\n",
    "      y :    (array_like Shape (m,))\n",
    "      w_in : (array_like Shape (n,))  Initial values of parameters of the model\n",
    "      b_in : (scalar)                 Initial value of parameter of the model\n",
    "      cost_function:                  function to compute cost\n",
    "      alpha : (float)                 Learning rate\n",
    "      num_iters : (int)               number of iterations to run gradient descent\n",
    "      lambda_ (scalar, float)         regularization constant\n",
    "      \n",
    "    Returns:\n",
    "      w : (array_like Shape (n,)) Updated values of parameters of the model after\n",
    "          running gradient descent\n",
    "      b : (scalar)                Updated value of parameter of the model after\n",
    "          running gradient descent\n",
    "    \"\"\"\n",
    "    # number of training examples\n",
    "    m = len(X)\n",
    "    \n",
    "    # An array to store cost J and w's at each iteration primarily for graphing later\n",
    "    J_history = []\n",
    "    w_history = []\n",
    "    \n",
    "    for i in range(num_iters):\n",
    "\n",
    "        # Calculate the gradient and update the parameters\n",
    "        dj_db, dj_dw = gradient_function(X, y, w_in, b_in, lambda_)   \n",
    "\n",
    "        # Update Parameters using w, b, alpha and gradient\n",
    "        w_in = w_in - alpha * dj_dw               \n",
    "        b_in = b_in - alpha * dj_db              \n",
    "       \n",
    "        # Save cost J at each iteration\n",
    "        if i<100000:      # prevent resource exhaustion \n",
    "            cost =  cost_function(X, y, w_in, b_in, lambda_)\n",
    "            J_history.append(cost)\n",
    "\n",
    "        # Print cost every at intervals 10 times or as many iterations if < 10\n",
    "        if i% math.ceil(num_iters/10) == 0 or i == (num_iters-1):\n",
    "            w_history.append(w_in)\n",
    "            print(f\"Iteration {i:4}: Cost {float(J_history[-1]):8.2f}   \")\n",
    "        \n",
    "    return w_in, b_in, J_history, w_history #return w and J,w history for graphing"
   ]
  },
  {
   "attachments": {},
   "cell_type": "markdown",
   "metadata": {},
   "source": [
    "Now let's run the gradient descent algorithm above to learn the parameters for our dataset.\n",
    "\n",
    "**Note** \n",
    "\n",
    "The code block below takes a couple of minutes to run, especially with a non-vectorized version. We can reduce the iterations to test your implementation and iterate faster. If we have time later, try running 100,000 iterations for better results."
   ]
  },
  {
   "cell_type": "code",
   "execution_count": 18,
   "metadata": {},
   "outputs": [
    {
     "name": "stdout",
     "output_type": "stream",
     "text": [
      "Iteration    0: Cost     1.01   \n",
      "Iteration 1000: Cost     0.31   \n",
      "Iteration 2000: Cost     0.30   \n",
      "Iteration 3000: Cost     0.30   \n",
      "Iteration 4000: Cost     0.30   \n",
      "Iteration 5000: Cost     0.30   \n",
      "Iteration 6000: Cost     0.30   \n",
      "Iteration 7000: Cost     0.30   \n",
      "Iteration 8000: Cost     0.30   \n",
      "Iteration 9000: Cost     0.30   \n",
      "Iteration 9999: Cost     0.30   \n"
     ]
    }
   ],
   "source": [
    "np.random.seed(1)\n",
    "intial_w = 0.01 * (np.random.rand(2).reshape(-1,1) - 0.5)\n",
    "initial_b = -8\n",
    "\n",
    "\n",
    "# Some gradient descent settings\n",
    "iterations = 10000\n",
    "alpha = 0.001\n",
    "\n",
    "w,b, J_history,_ = gradient_descent(X_train ,y_train, initial_w, initial_b, \n",
    "                                   compute_cost, compute_gradient, alpha, iterations, 0)"
   ]
  },
  {
   "attachments": {},
   "cell_type": "markdown",
   "metadata": {},
   "source": [
    "### 2.7 Plotting the decision boundary\n",
    "\n",
    "***\n",
    "\n",
    "We will now use the final parameters from gradient descent to plot the linear fit."
   ]
  },
  {
   "cell_type": "code",
   "execution_count": 19,
   "metadata": {},
   "outputs": [],
   "source": [
    "# Firstly implement function for feature engineering modeling (polynomial regression) \n",
    "def map_feature(X1, X2):\n",
    "    \"\"\"\n",
    "    Feature mapping function to polynomial features    \n",
    "    \"\"\"\n",
    "    X1 = np.atleast_1d(X1)\n",
    "    X2 = np.atleast_1d(X2)\n",
    "    degree = 6\n",
    "    out = []\n",
    "    for i in range(1, degree+1):\n",
    "        for j in range(i + 1):\n",
    "            out.append((X1**(i-j) * (X2**j)))\n",
    "    return np.stack(out, axis=1)\n",
    "\n",
    "\n",
    "# Finally, we have to define a function \"plot_decision_boundary\" to plot the data\n",
    "def plot_decision_boundary(w, b, X, y):\n",
    "\n",
    "    def plot_data(X, y, pos_label=\"y=1\", neg_label=\"y=0\"):\n",
    "        positive = y == 1\n",
    "        negative = y == 0\n",
    "    \n",
    "        # Plot examples\n",
    "        plt.plot(X[positive, 0], X[positive, 1], 'k+', label=pos_label)\n",
    "        plt.plot(X[negative, 0], X[negative, 1], 'yo', label=neg_label)\n",
    "\n",
    "    # test the \"plot_data\" function to plot our examples\n",
    "    plot_data(X[:, 0:2], y, pos_label=\"Admitted\", neg_label=\"Not admitted\")\n",
    "\n",
    "    \n",
    "    if X.shape[1] <= 2:\n",
    "        plot_x = np.array([min(X[:, 0]), max(X[:, 0])])\n",
    "        plot_y = (-1. / w[1]) * (w[0] * plot_x + b)\n",
    "        \n",
    "        plt.plot(plot_x, plot_y, c=\"b\")\n",
    "        \n",
    "    else:\n",
    "        u = np.linspace(-1, 1.5, 50)\n",
    "        v = np.linspace(-1, 1.5, 50)\n",
    "        \n",
    "        z = np.zeros((len(u), len(v)))\n",
    "\n",
    "        # Evaluate z = theta*x over the grid\n",
    "        for i in range(len(u)):\n",
    "            for j in range(len(v)):\n",
    "                z[i,j] = sigmoid(np.dot(map_feature(u[i], v[j]), w) + b)\n",
    "        \n",
    "        # important to transpose z before calling contour       \n",
    "        z = z.T\n",
    "        \n",
    "        # Plot z = 0.5\n",
    "        plt.contour(u,v,z, levels = [0.5], colors=\"g\")\n",
    "\n",
    "\n",
    "    # Set the y-axis label\n",
    "    plt.ylabel('Exam 2 score') \n",
    "    # Set the x-axis label\n",
    "    plt.xlabel('Exam 1 score') \n",
    "    plt.legend(loc=\"upper right\")\n",
    "    plt.show()"
   ]
  },
  {
   "cell_type": "code",
   "execution_count": 20,
   "metadata": {},
   "outputs": [
    {
     "data": {
      "image/png": "[encoded data removed]",
      "text/plain": [
       "<Figure size 640x480 with 1 Axes>"
      ]
     },
     "metadata": {},
     "output_type": "display_data"
    }
   ],
   "source": [
    "# Test a \"plot decision boundary\" function to make a plot\n",
    "plot_decision_boundary(w, b, X_train, y_train)"
   ]
  },
  {
   "attachments": {},
   "cell_type": "markdown",
   "metadata": {},
   "source": [
    "### 2.8 Evaluating logistic regression\n",
    "\n",
    "***\n",
    "\n",
    "We can evaluate the quality of the parameters we have found by seeing how well the learned model predicts on our training set.\n",
    "\n",
    "We will implement the \"predict\" function below to do this."
   ]
  },
  {
   "attachments": {},
   "cell_type": "markdown",
   "metadata": {},
   "source": [
    "### Exercise 4\n",
    "\n",
    "Let's complete the \"predict\" function to produce: **1** ot **0** predictions given a dataset and a learned parameter vector **𝑤** and **𝑏**\n",
    "\n",
    "* First you need to compute the prediction from the model below for every example\n",
    "$$ f(x^i) = g(w * x^i +b) $$\n",
    "\n",
    "        * We have implemented this before in the parts above\n",
    "\n",
    "* We interpret the output of the model f(x[i]) as the probabilty that y[i] = 1 given x[i] and parameterized by **w**\n",
    "\n",
    "* Therefore, to get a final prediction (y[i] = or y[i] = 1) from the logistic regression model, you can use the following heuristic - suppose if\n",
    "\n",
    "    $$ f(x^i) >= 0.5, predict =>  y^i = 1 $$\n",
    "    \n",
    "    $$ f(x^i) < 0.5, predict  =>  y^i = 0 $$"
   ]
  },
  {
   "cell_type": "code",
   "execution_count": 21,
   "metadata": {},
   "outputs": [],
   "source": [
    "# Define a \"predict\" function\n",
    "def predict(X, w, b): \n",
    "    \"\"\"\n",
    "    Predict whether the label is 0 or 1 using learned logistic\n",
    "    regression parameters w\n",
    "    \n",
    "    Args:\n",
    "    X : (ndarray Shape (m, n))\n",
    "    w : (array_like Shape (n,))      Parameters of the model\n",
    "    b : (scalar, float)              Parameter of the model\n",
    "\n",
    "    Returns:\n",
    "    p: (ndarray (m,1))\n",
    "        The predictions for X using a threshold at 0.5\n",
    "    \"\"\"\n",
    "    # number of training examples\n",
    "    m, n = X.shape   \n",
    "    p = np.zeros(m)\n",
    "   \n",
    "    # Loop over each example\n",
    "    for i in range(m):   \n",
    "        z_wb = 0\n",
    "        # Loop over each feature\n",
    "        for j in range(n): \n",
    "            # Add the corresponding term to z_wb\n",
    "            z_wb_ij = X[i, j] * w[j]\n",
    "            z_wb += z_wb_ij\n",
    "        \n",
    "        # Add bias term \n",
    "        z_wb += b\n",
    "        \n",
    "        # Calculate the prediction for this example\n",
    "        f_wb = sigmoid(z_wb)\n",
    "\n",
    "        # Apply the threshold\n",
    "        p[i] = f_wb >= 0.5\n",
    "        \n",
    "    return p"
   ]
  },
  {
   "cell_type": "code",
   "execution_count": 22,
   "metadata": {},
   "outputs": [
    {
     "name": "stdout",
     "output_type": "stream",
     "text": [
      "Output of predict: shape (4,), value [0. 1. 1. 1.]\n"
     ]
    }
   ],
   "source": [
    "# Once we have completed the function \"predict\", let's run the code below to report the training accuracy of your classifier by computing the percentage of examples it got correct.\n",
    "# Test our predict code\n",
    "np.random.seed(1)\n",
    "tmp_w = np.random.randn(2)\n",
    "tmp_b = 0.3    \n",
    "tmp_X = np.random.randn(4, 2) - 0.5\n",
    "\n",
    "tmp_p = predict(tmp_X, tmp_w, tmp_b)\n",
    "print(f'Output of predict: shape {tmp_p.shape}, value {tmp_p}')"
   ]
  },
  {
   "cell_type": "code",
   "execution_count": 23,
   "metadata": {},
   "outputs": [
    {
     "name": "stdout",
     "output_type": "stream",
     "text": [
      "Train Accuracy: 92.000000\n"
     ]
    }
   ],
   "source": [
    "# Now let's use this to compute the accuracy on the training set\n",
    "# Compute accuracy on our training set\n",
    "p = predict(X_train, w, b)\n",
    "print('Train Accuracy: %f'%(np.mean(p == y_train) * 100))"
   ]
  },
  {
   "attachments": {},
   "cell_type": "markdown",
   "metadata": {},
   "source": [
    "## 3. Regularized Logistic Regression\n",
    "\n",
    "***\n",
    "\n",
    "In this part of the exercise, we will implement regularized logistic regression to predict whether microchips from a fabrication plant passes quality assurance (QA). \n",
    "During QA, each microchip goes through various tests to ensure it is functioning correctly."
   ]
  },
  {
   "attachments": {},
   "cell_type": "markdown",
   "metadata": {},
   "source": [
    "### 3.1. Problem Statement\n",
    "\n",
    "Suppose we are the product manager of the factory and you have the test results for some microchips on two different tests.\n",
    "\n",
    "* From these two tests, we would like to determine whether the microchips should be accepted or rejected.\n",
    "* To help make the decision, we have a dataset of test results on past microchips, from which we can build a logistic regression model."
   ]
  },
  {
   "attachments": {},
   "cell_type": "markdown",
   "metadata": {},
   "source": [
    "### 3.2. Loading and visualizing the data\n",
    "\n",
    "Similar to previous parts of this exercise, let's start by loading the dataset for this task and visualizing it.\n",
    "\n",
    "* The load_dataset() function shown below loads the data into variables **X_train** and **y_train**\n",
    "\n",
    "    * X_train contains the test results for the microchips from two tests\n",
    "    * y_train contains the results of the QA\n",
    "        * y_train = 1 if the microchip was accepted\n",
    "        * y_train = 0 if the microchip was rejected\n",
    "    * Both X_train and y_train are numpy arrays"
   ]
  },
  {
   "cell_type": "code",
   "execution_count": 24,
   "metadata": {},
   "outputs": [],
   "source": [
    "# load dataset\n",
    "X_train, y_train = load_data('https://raw.githubusercontent.com/Chuvard/Logistic_Regression/main/ex2data2.txt')"
   ]
  },
  {
   "attachments": {},
   "cell_type": "markdown",
   "metadata": {},
   "source": [
    "**View the variables**\n",
    "\n",
    "The code below prints the first five values of **X_train** and **y_train** and the type of the variables."
   ]
  },
  {
   "cell_type": "code",
   "execution_count": 25,
   "metadata": {},
   "outputs": [
    {
     "name": "stdout",
     "output_type": "stream",
     "text": [
      "X_train: [[ 0.051267  0.69956 ]\n",
      " [-0.092742  0.68494 ]\n",
      " [-0.21371   0.69225 ]\n",
      " [-0.375     0.50219 ]\n",
      " [-0.51325   0.46564 ]]\n",
      "Type of X_train: <class 'numpy.ndarray'>\n",
      "y_train: [1. 1. 1. 1. 1.]\n",
      "Type of y_train: <class 'numpy.ndarray'>\n"
     ]
    }
   ],
   "source": [
    "# print X_train\n",
    "print(\"X_train:\", X_train[:5])\n",
    "print(\"Type of X_train:\",type(X_train))\n",
    "\n",
    "# print y_train\n",
    "print(\"y_train:\", y_train[:5])\n",
    "print(\"Type of y_train:\",type(y_train))"
   ]
  },
  {
   "attachments": {},
   "cell_type": "markdown",
   "metadata": {},
   "source": [
    "**Check the dimensions of your variables**\n",
    "\n",
    "Another useful way to get familiar with our data is to view its dimensions. Let's print the shape of **X_train** and **y_train** and see how many training examples we have in our dataset"
   ]
  },
  {
   "cell_type": "code",
   "execution_count": 26,
   "metadata": {},
   "outputs": [
    {
     "name": "stdout",
     "output_type": "stream",
     "text": [
      "The shape of X_train is: (118, 2)\n",
      "The shape of y_train is: (118,)\n",
      "We have m = 118 training examples\n"
     ]
    }
   ],
   "source": [
    "print ('The shape of X_train is: ' + str(X_train.shape))\n",
    "print ('The shape of y_train is: ' + str(y_train.shape))\n",
    "print ('We have m = %d training examples' % (len(y_train)))"
   ]
  },
  {
   "attachments": {},
   "cell_type": "markdown",
   "metadata": {},
   "source": [
    "**Visualize our data**\n",
    "\n",
    "The function \"plot_data\" is used to generate a figure, where the axes are the two test scores, and the positive (y = 1, accepted) and negative (y = 0, rejected) examples are shown with different markers."
   ]
  },
  {
   "cell_type": "code",
   "execution_count": 27,
   "metadata": {},
   "outputs": [
    {
     "data": {
      "image/png": "[encoded data removed]",
      "text/plain": [
       "<Figure size 640x480 with 1 Axes>"
      ]
     },
     "metadata": {},
     "output_type": "display_data"
    }
   ],
   "source": [
    "# Plot examples\n",
    "plot_data(X_train, y_train[:], pos_label=\"Accepted\", neg_label=\"Rejected\")\n",
    "\n",
    "# Set the y-axis label\n",
    "plt.ylabel('Microchip Test 2') \n",
    "# Set the x-axis label\n",
    "plt.xlabel('Microchip Test 1') \n",
    "plt.legend(loc=\"upper right\")\n",
    "plt.show()"
   ]
  },
  {
   "attachments": {},
   "cell_type": "markdown",
   "metadata": {},
   "source": [
    "The figure above shows that our dataset cannot be separated into positive and negative examples by a straight-line through the plot. \n",
    "\n",
    "Therefore, a straight forward application of logistic regression will not perform well on this dataset since logistic regression will only be able to find a linear decision boundary.\n"
   ]
  },
  {
   "attachments": {},
   "cell_type": "markdown",
   "metadata": {},
   "source": [
    "### 3.3 Feature mapping\n",
    "\n",
    "***\n",
    "\n",
    "One way to fit the data better is to create more features from each data point. In the provided function 'map_feature', we will map the features into all polynomial terms of $𝑥_1$ and $𝑥_2$ up to the sixth power.\n",
    "\n",
    "\n",
    "$$\\mathrm{map\\_feature}(x) = \n",
    "\\left[\\begin{array}{c}\n",
    "x_1\\\\\n",
    "x_2\\\\\n",
    "x_1^2\\\\\n",
    "x_1 x_2\\\\\n",
    "x_2^2\\\\\n",
    "x_1^3\\\\\n",
    "\\vdots\\\\\n",
    "x_1 x_2^5\\\\\n",
    "x_2^6\\end{array}\\right]$$\n",
    "\n",
    "\n",
    "As a result of this mapping, our vector of two features (the scores on two QA tests) has been transformed into a 27-dimensional vector.\n",
    "* A logistic regression classifier trained on this higher-dimension feature vector will have a more complex decision boundary and will be nonlinear when drawn in our 2-dimensional plot.\n",
    "* We have provided the \"map_feature\" function to do so.\n"
   ]
  },
  {
   "cell_type": "code",
   "execution_count": 28,
   "metadata": {},
   "outputs": [
    {
     "name": "stdout",
     "output_type": "stream",
     "text": [
      "Original shape of data: (118, 2)\n",
      "Shape after feature mapping: (118, 27)\n"
     ]
    }
   ],
   "source": [
    "# Print out the origin and modified dimentions\n",
    "print(\"Original shape of data:\", X_train.shape)\n",
    "\n",
    "mapped_X =  map_feature(X_train[:, 0], X_train[:, 1])\n",
    "print(\"Shape after feature mapping:\", mapped_X.shape)"
   ]
  },
  {
   "cell_type": "code",
   "execution_count": 29,
   "metadata": {},
   "outputs": [
    {
     "name": "stdout",
     "output_type": "stream",
     "text": [
      "X_train[0]: [0.051267 0.69956 ]\n",
      "mapped X_train[0]: [5.12670000e-02 6.99560000e-01 2.62830529e-03 3.58643425e-02\n",
      " 4.89384194e-01 1.34745327e-04 1.83865725e-03 2.50892595e-02\n",
      " 3.42353606e-01 6.90798869e-06 9.42624411e-05 1.28625106e-03\n",
      " 1.75514423e-02 2.39496889e-01 3.54151856e-07 4.83255257e-06\n",
      " 6.59422333e-05 8.99809795e-04 1.22782870e-02 1.67542444e-01\n",
      " 1.81563032e-08 2.47750473e-07 3.38066048e-06 4.61305487e-05\n",
      " 6.29470940e-04 8.58939846e-03 1.17205992e-01]\n"
     ]
    }
   ],
   "source": [
    "# Let's also print the first elements of **X_train** and **mapped_X** to see the tranformation.\n",
    "print(\"X_train[0]:\", X_train[0])\n",
    "print(\"mapped X_train[0]:\", mapped_X[0])"
   ]
  },
  {
   "attachments": {},
   "cell_type": "markdown",
   "metadata": {},
   "source": [
    "While the feature mapping allows us to build a more expressive classifier, it is also more susceptible to overfitting. \n",
    "In the next parts of the exercise, we will implement regularized logistic regression to fit the data and also see for ourself how regularization can help combat the overfitting problem.\n"
   ]
  },
  {
   "attachments": {},
   "cell_type": "markdown",
   "metadata": {},
   "source": [
    "### 3.4. Cost function for regularized logistic regression\n",
    "\n",
    "***\n",
    "\n",
    "In this part, we will implement the cost function for regularized logistic regression.\n",
    "\n",
    "Recall that for regularized logistic regression, the cost function is of the form\n",
    "\n",
    "$$ J(w,b) = \\frac{1}{m} * \\sum_{i=0}^{m-1} * [-y^i * log(f_w,_b(x^i)) - (1 - y^i) * log(1 - f_w,_b(x^i))] + \\frac{\\lambda}{2m} * \\sum_{i=0}^{m-1} * w_j^2 $$\n",
    "\n",
    "Compare it to the cost function without regularization (which we implemented above), which is of the form\n",
    "\n",
    "$$ J(w,b) = \\frac{1}{m} * \\sum_{i=0}^{m-1} * [-y^i * log(f_w,_b(x^i)) - (1 - y^i) * log(1 - f_w,_b(x^i))] $$\n",
    "\n",
    "The difference is the regularization term, which is\n",
    "\n",
    "$$ \\frac{\\lambda}{2m} * \\sum_{i=0}^{m-1} * w_j^2 $$\n",
    "\n",
    "Note that the **𝑏** parameter is not regularized."
   ]
  },
  {
   "attachments": {},
   "cell_type": "markdown",
   "metadata": {},
   "source": [
    "### Exercise 5\n",
    "\n",
    "\n",
    "Please complete the \"compute_cost_reg\" function below to calculate the following term for each element in **𝑤**\n",
    "\n",
    "$$ \\frac{\\lambda}{2m} * \\sum_{i=0}^{m-1} * w_j^2 $$\n",
    "\n",
    "The starter code then adds this to the cost without regularization (which we computed above in \"compute_cost\") to calculate the cost with regulatization.\n"
   ]
  },
  {
   "cell_type": "code",
   "execution_count": 30,
   "metadata": {},
   "outputs": [],
   "source": [
    "def compute_cost_reg(X, y, w, b, lambda_ = 1):\n",
    "    \"\"\"\n",
    "    Computes the cost over all examples\n",
    "    Args:\n",
    "      X : (array_like Shape (m,n)) data, m examples by n features\n",
    "      y : (array_like Shape (m,)) target value \n",
    "      w : (array_like Shape (n,)) Values of parameters of the model      \n",
    "      b : (array_like Shape (n,)) Values of bias parameter of the model\n",
    "      lambda_ : (scalar, float)    Controls amount of regularization\n",
    "    Returns:\n",
    "      total_cost: (scalar)         cost \n",
    "    \"\"\"\n",
    "\n",
    "    m, n = X.shape\n",
    "    \n",
    "    # Calls the compute_cost function that you implemented above\n",
    "    cost_without_reg = compute_cost(X, y, w, b) \n",
    "    \n",
    "    # We need to calculate this value\n",
    "    reg_cost = 0.\n",
    "    \n",
    "    for j in range(n):\n",
    "        reg_cost += (w[j]**2)\n",
    "           \n",
    "    # Add the regularization cost to get the total cost\n",
    "    total_cost = cost_without_reg + (lambda_/(2 * m)) * reg_cost\n",
    "\n",
    "    return total_cost"
   ]
  },
  {
   "cell_type": "code",
   "execution_count": 31,
   "metadata": {},
   "outputs": [
    {
     "name": "stdout",
     "output_type": "stream",
     "text": [
      "Regularized cost : 0.6618\n"
     ]
    }
   ],
   "source": [
    "# Run the cell below to check your implementation of the \"compute_cost_reg\" function.\n",
    "X_mapped = map_feature(X_train[:, 0], X_train[:, 1])\n",
    "np.random.seed(1)\n",
    "initial_w = np.random.rand(X_mapped.shape[1]) - 0.5\n",
    "initial_b = 0.5\n",
    "lambda_ = 0.5\n",
    "cost = compute_cost_reg(X_mapped, y_train, initial_w, initial_b, lambda_)\n",
    "\n",
    "print(\"Regularized cost : {:.4f}\".format(cost))"
   ]
  },
  {
   "attachments": {},
   "cell_type": "markdown",
   "metadata": {},
   "source": [
    "### 3.5 Gradient for regularized logistic regression\n",
    "\n",
    "***\n",
    "\n",
    "In this section, we will implement the gradient for regularized logistic regression.\n",
    "\n",
    "\n",
    "The gradient of the regularized cost function has two components. The first, $\\frac{\\partial J(\\mathbf{w},b)}{\\partial b}$ is a scalar, the other is a vector with the same shape as the parameters $\\mathbf{w}$, where the $j^\\mathrm{th}$ element is defined as follows:\n",
    "\n",
    "$$\\frac{\\partial J(\\mathbf{w},b)}{\\partial b} = \\frac{1}{m}  \\sum_{i=0}^{m-1} (f_{\\mathbf{w},b}(\\mathbf{x}^{(i)}) - y^{(i)})  $$\n",
    "\n",
    "$$ \\frac{\\delta(J(w,b))}{\\delta(w)} = [\\frac{1}{m} * \\sum_{i=0}^{m-1} * (f_w,b(x^i)-y^i) * x_j^i] + \\frac{\\lambda}{m}*w_j $$\n",
    "\n",
    "Compare this to the gradient of the cost function without regularization (which you implemented above), which is of the form \n",
    "$$\n",
    "\\frac{\\partial J(\\mathbf{w},b)}{\\partial b}  = \\frac{1}{m} \\sum\\limits_{i = 0}^{m-1} (f_{\\mathbf{w},b}(\\mathbf{x}^{(i)}) - \\mathbf{y}^{(i)}) \\tag{2}\n",
    "$$\n",
    "$$\n",
    "\\frac{\\partial J(\\mathbf{w},b)}{\\partial w_j}  = \\frac{1}{m} \\sum\\limits_{i = 0}^{m-1} (f_{\\mathbf{w},b}(\\mathbf{x}^{(i)}) - \\mathbf{y}^{(i)})x_{j}^{(i)} \\tag{3}\n",
    "$$\n",
    "\n",
    "\n",
    "As we can see,$\\frac{\\partial J(\\mathbf{w},b)}{\\partial b}$ is the same, the difference is the following term in $\\frac{\\partial J(\\mathbf{w},b)}{\\partial w}$, which is \n",
    "\n",
    "$$ \\frac{\\lambda}{m}*w_j $$"
   ]
  },
  {
   "attachments": {},
   "cell_type": "markdown",
   "metadata": {},
   "source": [
    "### Exercise 6\n",
    "\n",
    "Let's complete the \"compute_gradient_reg\" function below to modify the code below to calculate the following term\n",
    "\n",
    "$$ \\frac{\\lambda}{m}*w_j $$\n",
    "for j = 0...(n-1)\n",
    "\n",
    "The starter code will add this term to the $\\frac{\\partial J(\\mathbf{w},b)}{\\partial w}$ returned from \"compute_gradient\" above to get the gradient for the regularized cost function."
   ]
  },
  {
   "cell_type": "code",
   "execution_count": 32,
   "metadata": {},
   "outputs": [],
   "source": [
    "def compute_gradient_reg(X, y, w, b, lambda_ = 1): \n",
    "    \"\"\"\n",
    "    Computes the gradient for linear regression \n",
    " \n",
    "    Args:\n",
    "      X : (ndarray Shape (m,n))   variable such as house size \n",
    "      y : (ndarray Shape (m,))    actual value \n",
    "      w : (ndarray Shape (n,))    values of parameters of the model      \n",
    "      b : (scalar)                value of parameter of the model  \n",
    "      lambda_ : (scalar,float)    regularization constant\n",
    "    Returns\n",
    "      dj_db: (scalar)             The gradient of the cost w.r.t. the parameter b. \n",
    "      dj_dw: (ndarray Shape (n,)) The gradient of the cost w.r.t. the parameters w. \n",
    "\n",
    "    \"\"\"\n",
    "    m, n = X.shape\n",
    "    \n",
    "    dj_db, dj_dw = compute_gradient(X, y, w, b)\n",
    "\n",
    "    # Loop over the elements of w\n",
    "    for j in range(n):\n",
    "        \n",
    "        dj_dw_j_reg = (lambda_ / m) * w[j]  # code to calculate the regularization term for dj_dw[j]\n",
    "        \n",
    "        # Add the regularization term  to the correspoding element of dj_dw\n",
    "        dj_dw[j] = dj_dw[j] + dj_dw_j_reg\n",
    "        \n",
    "    return dj_db, dj_dw"
   ]
  },
  {
   "cell_type": "code",
   "execution_count": 33,
   "metadata": {},
   "outputs": [
    {
     "name": "stdout",
     "output_type": "stream",
     "text": [
      "dj_db: 0.07138288792343662\n",
      "First few elements of regularized dj_dw:\n",
      " [-0.010386028450548701, 0.011409852883280124, 0.0536273463274574, 0.003140278267313462]\n"
     ]
    }
   ],
   "source": [
    "# Run the cell below to check your implementation of the \"compute_gradient_reg\" function.\n",
    "X_mapped = map_feature(X_train[:, 0], X_train[:, 1])\n",
    "np.random.seed(1) \n",
    "initial_w  = np.random.rand(X_mapped.shape[1]) - 0.5 \n",
    "initial_b = 0.5\n",
    " \n",
    "lambda_ = 0.5\n",
    "dj_db, dj_dw = compute_gradient_reg(X_mapped, y_train, initial_w, initial_b, lambda_)\n",
    "\n",
    "print(f\"dj_db: {dj_db}\", )\n",
    "print(f\"First few elements of regularized dj_dw:\\n {dj_dw[:4].tolist()}\", )"
   ]
  },
  {
   "attachments": {},
   "cell_type": "markdown",
   "metadata": {},
   "source": [
    "### 3.6 Learning parameters using gradient descent\n",
    "\n",
    "***\n",
    "\n",
    "Similar to the previous parts, we will use gradient descent function implemented above to learn the optimal parameters **𝑤**, **𝑏**.\n",
    "* If we have completed the cost and gradient for regularized logistic regression correctly, we should be able to step through the next cell to learn the parameters **𝑤**.\n",
    "* After training our parameters, we will use it to plot the decision boundary.\n",
    "\n",
    "Note:\n",
    "The code block below takes quite a while to run, especially with a non-vectorized version. We can reduce the iterations to test our implementation and iterate faster."
   ]
  },
  {
   "cell_type": "code",
   "execution_count": 34,
   "metadata": {},
   "outputs": [
    {
     "name": "stdout",
     "output_type": "stream",
     "text": [
      "Iteration    0: Cost     0.72   \n",
      "Iteration 1000: Cost     0.59   \n",
      "Iteration 2000: Cost     0.56   \n",
      "Iteration 3000: Cost     0.53   \n",
      "Iteration 4000: Cost     0.51   \n",
      "Iteration 5000: Cost     0.50   \n",
      "Iteration 6000: Cost     0.48   \n",
      "Iteration 7000: Cost     0.47   \n",
      "Iteration 8000: Cost     0.46   \n",
      "Iteration 9000: Cost     0.45   \n",
      "Iteration 9999: Cost     0.45   \n"
     ]
    }
   ],
   "source": [
    "# Initialize fitting parameters\n",
    "np.random.seed(1)\n",
    "initial_w = np.random.rand(X_mapped.shape[1])-0.5\n",
    "initial_b = 1.\n",
    "\n",
    "# Set regularization parameter lambda_ (you can try varying this)\n",
    "lambda_ = 0.01\n",
    "\n",
    "# Some gradient descent settings\n",
    "iterations = 10000\n",
    "alpha = 0.01\n",
    "\n",
    "w,b, J_history,_ = gradient_descent(X_mapped, y_train, initial_w, initial_b, compute_cost_reg, compute_gradient_reg, alpha, iterations, lambda_)"
   ]
  },
  {
   "attachments": {},
   "cell_type": "markdown",
   "metadata": {},
   "source": [
    "### 3.7 Plotting the decision boundary\n",
    "\n",
    "***\n",
    "\n",
    "To help visualize the model learned by this classifier, we will use our \"plot_decision_boundary\" function which plots the (non-linear) decision boundary that separates the positive and negative examples.\n",
    "\n",
    "* In the function, we plotted the non-linear decision boundary by computing the classifier’s predictions on an evenly spaced grid and then drew a contour plot of where the predictions change from y = 0 to y = 1.\n",
    "* After learning the parameters **𝑤**, **𝑏**, the next step is to plot a decision boundary to the graph."
   ]
  },
  {
   "cell_type": "code",
   "execution_count": 35,
   "metadata": {},
   "outputs": [
    {
     "data": {
      "image/png": "[encoded data removed]",
      "text/plain": [
       "<Figure size 640x480 with 1 Axes>"
      ]
     },
     "metadata": {},
     "output_type": "display_data"
    }
   ],
   "source": [
    "plot_decision_boundary(w, b, X_mapped, y_train)"
   ]
  },
  {
   "attachments": {},
   "cell_type": "markdown",
   "metadata": {},
   "source": [
    "### 3.8 Evaluating regularized logistic regression model\n",
    "\n",
    "***\n",
    "\n",
    "We will use the predict function that we implemented above to calculate the accuracy of the regulaized logistic regression model on the training set."
   ]
  },
  {
   "cell_type": "code",
   "execution_count": 36,
   "metadata": {},
   "outputs": [
    {
     "name": "stdout",
     "output_type": "stream",
     "text": [
      "Train Accuracy: 82.203390\n"
     ]
    }
   ],
   "source": [
    "# Compute accuracy on the training set\n",
    "p = predict(X_mapped, w, b)\n",
    "\n",
    "print('Train Accuracy: %f'%(np.mean(p == y_train) * 100))"
   ]
  }
 ],
 "metadata": {
  "kernelspec": {
   "display_name": "Python 3",
   "language": "python",
   "name": "python3"
  },
  "language_info": {
   "codemirror_mode": {
    "name": "ipython",
    "version": 3
   },
   "file_extension": ".py",
   "mimetype": "text/x-python",
   "name": "python",
   "nbconvert_exporter": "python",
   "pygments_lexer": "ipython3",
   "version": "3.11.5"
  },
  "orig_nbformat": 4
 },
 "nbformat": 4,
 "nbformat_minor": 2
}
